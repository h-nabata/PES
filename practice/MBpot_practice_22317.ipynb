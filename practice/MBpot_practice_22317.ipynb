{
 "cells": [
  {
   "cell_type": "code",
   "execution_count": 1,
   "id": "3ff6f181",
   "metadata": {},
   "outputs": [],
   "source": [
    "################################################################################################\n",
    "#                                                                                              #\n",
    "#  「PESと最適化」前編 Notebook版 (ver 1.0)     by H. Nabata                                   #\n",
    "#                                                                                              #\n",
    "# ① 最急降下法を実装して、任意の初期点からMinimumに辿り着くようなプログラムを作成する         #\n",
    "# ② ニュートン法を実装して、鞍点近傍の初期点からSaddleに辿り着くようなプログラムを作成する    #\n",
    "#                                                                                              #\n",
    "################################################################################################"
   ]
  },
  {
   "cell_type": "code",
   "execution_count": 2,
   "id": "2dea74ca",
   "metadata": {},
   "outputs": [],
   "source": [
    "### ライブラリのimport\n",
    "import matplotlib.pyplot as plt\n",
    "import numpy as np"
   ]
  },
  {
   "cell_type": "code",
   "execution_count": 3,
   "id": "83af5733",
   "metadata": {},
   "outputs": [],
   "source": [
    "### Müller･Brownポテンシャルの定義\n",
    "def f(x, y):\n",
    "    # Müller & Brown potential, https://doi.org/10.1007/BF00547608\n",
    "    A=[-200.0, -100.0, -170.0, 15.0]\n",
    "    a=[-1.0, -1.0, -6.5, 0.7]\n",
    "    b=[0.0, 0.0, 11.0, 0.6]\n",
    "    c=[-10.0, -10.0, -6.5, 0.7]\n",
    "    p=[1.0, 0.0, -0.5, -1.0]\n",
    "    q=[0.0, 0.5, 1.5, 1.0]\n",
    "    s = []\n",
    "    for i in range(4):\n",
    "        s.append(A[i]*np.exp(a[i]*(x-p[i])**2+b[i]*(x-p[i])*(y-q[i])+c[i]*(y-q[i])**2))\n",
    "    return sum(s)"
   ]
  },
  {
   "cell_type": "code",
   "execution_count": 4,
   "id": "fac890e1",
   "metadata": {},
   "outputs": [],
   "source": [
    "### 数値微分による偏導関数の定義\n",
    "def fx(x, y):\n",
    "    h = 1e-7\n",
    "    return (f(x+h, y)-f(x-h, y))/(2*h)\n",
    "\n",
    "def fy(x, y):\n",
    "    h = 1e-7\n",
    "    return (f(x, y+h)-f(x, y-h))/(2*h)"
   ]
  },
  {
   "cell_type": "code",
   "execution_count": 5,
   "id": "03ff3f88",
   "metadata": {},
   "outputs": [],
   "source": [
    "### 数値微分による2階の偏導関数の定義\n",
    "def fxx(x, y):\n",
    "    h = 1e-7\n",
    "    return (fx(x+h, y)-fx(x-h, y))/(2*h)\n",
    "\n",
    "def fxy(x, y):\n",
    "    h = 1e-7\n",
    "    return (fx(x, y+h)-fx(x, y-h))/(2*h)\n",
    "\n",
    "def fyy(x, y):\n",
    "    h = 1e-7\n",
    "    return (fy(x, y+h)-fy(x, y-h))/(2*h)"
   ]
  },
  {
   "cell_type": "code",
   "execution_count": 6,
   "id": "7abcf156",
   "metadata": {},
   "outputs": [],
   "source": [
    "##############################################################\n",
    "#                         最急降下法                         #\n",
    "##############################################################"
   ]
  },
  {
   "cell_type": "code",
   "execution_count": 7,
   "id": "63cbac63",
   "metadata": {},
   "outputs": [],
   "source": [
    "### 初期設定\n",
    "xc = -0.8; yc = 0.75      # 初期座標（＝初期構造）\n",
    "xc_list = []; yc_list = []  # 座標を格納するリストを用意する\n",
    "stepsize = 1e-4   # STEP幅\n",
    "maxitr = 10000  # 座標更新サイクルの上限回数"
   ]
  },
  {
   "cell_type": "code",
   "execution_count": 8,
   "id": "4a0a87a8",
   "metadata": {},
   "outputs": [],
   "source": [
    "### 最急降下法による極小点の探索\n",
    "for i in range(1, maxitr):  # 上限回数まで座標更新を続ける\n",
    "    diffx = fx(xc, yc)  # gradient（勾配）の計算\n",
    "    diffy = fy(xc, yc)\n",
    "    iteration = i       # 更新回数を保存\n",
    "    if np.sqrt(diffx ** 2 + diffy ** 2) < 1e-10:  # gradientの大きさが10^(-10)未満のとき\n",
    "        xc_list.append(xc)  # 座標をリストに追加\n",
    "        yc_list.append(yc)\n",
    "        break              # loopをbreakする\n",
    "    else:                                         # gradientの大きさが10^(-10)以上のとき\n",
    "        xc_list.append(xc)  # 座標をリストに追加\n",
    "        yc_list.append(yc)\n",
    "        xc = xc - stepsize * diffx  # 次の座標を生成･更新\n",
    "        yc = yc - stepsize * diffy"
   ]
  },
  {
   "cell_type": "code",
   "execution_count": 9,
   "id": "ca1abbc2",
   "metadata": {},
   "outputs": [
    {
     "name": "stdout",
     "output_type": "stream",
     "text": [
      "Terminal point = ( -0.5582236349238372 , 1.4417258414809169 ) , Iteration = 532\n",
      "Energy = -146.69951720995402 , Gradient = 0.0\n"
     ]
    }
   ],
   "source": [
    "### 最急降下法による最適化の結果を出力\n",
    "print(\"Terminal point = (\", xc, \",\", yc,\") , Iteration =\", iteration)\n",
    "print(\"Energy =\", f(xc, yc), \", Gradient =\", np.sqrt(diffx ** 2 + diffy ** 2))"
   ]
  },
  {
   "cell_type": "code",
   "execution_count": 10,
   "id": "d97c5b09",
   "metadata": {},
   "outputs": [
    {
     "data": {
      "image/png": "[encoded data removed]",
      "text/plain": [
       "<Figure size 432x288 with 1 Axes>"
      ]
     },
     "metadata": {
      "needs_background": "light"
     },
     "output_type": "display_data"
    }
   ],
   "source": [
    "### 初期点からの最急降下経路の図示\n",
    "plt.plot(xc_list, yc_list, 'g.-', alpha=0.3)            # trajectory\n",
    "plt.plot(xc_list[0], yc_list[0], 'b.-', alpha=0.8)      # initial point\n",
    "plt.plot(xc_list[-1], yc_list[-1], 'r.-', alpha=0.5)    # terminal point\n",
    "\n",
    "# z軸のlevelを定義\n",
    "level = []\n",
    "for i in range(-15,10):\n",
    "    level.append(10.0 * i)\n",
    "\n",
    "# ポテンシャル面の描画\n",
    "surf_x = np.linspace(-2.0, 1.5, 300)\n",
    "surf_y = np.linspace(-1.0, 2.5, 300)\n",
    "xmesh, ymesh = np.meshgrid(surf_x, surf_y)\n",
    "surf_z = f(xmesh, ymesh)\n",
    "cont = plt.contourf(surf_x, surf_y, surf_z, levels=level, cmap='coolwarm')\n",
    "plt.show()"
   ]
  },
  {
   "cell_type": "code",
   "execution_count": 11,
   "id": "e167ac0e",
   "metadata": {},
   "outputs": [],
   "source": [
    "##############################################################\n",
    "#                        ニュートン法                        #\n",
    "##############################################################"
   ]
  },
  {
   "cell_type": "code",
   "execution_count": 12,
   "id": "bc6dca61",
   "metadata": {},
   "outputs": [],
   "source": [
    "### 初期設定\n",
    "xc = -0.8; yc = 0.75      # 初期座標（＝初期構造）\n",
    "xc_list = []; yc_list = []  # 座標を格納するリストを用意する\n",
    "stepsize = 1.0   # STEP幅\n",
    "maxitr = 10000  # 座標更新サイクルの上限回数"
   ]
  },
  {
   "cell_type": "code",
   "execution_count": 13,
   "id": "b226b033",
   "metadata": {
    "scrolled": true
   },
   "outputs": [],
   "source": [
    "### ニュートン法による停留点の探索\n",
    "for i in range(1, maxitr):\n",
    "    diffx = fx(xc, yc)\n",
    "    diffy = fy(xc, yc)\n",
    "    if np.sqrt(diffx ** 2 + diffy ** 2) < 1e-10:  # gradientの大きさが10^(-10)未満のとき\n",
    "        xc_list.append(xc)  # 座標をリストに追加\n",
    "        yc_list.append(yc)\n",
    "        times = i\n",
    "        break\n",
    "    else:        \n",
    "        xc_list.append(xc)  # 座標をリストに追加\n",
    "        yc_list.append(yc)\n",
    "        \n",
    "        det = fxx(xc, yc) * fyy(xc, yc) - fxy(xc, yc) ** 2                         # ヘシアンの行列式\n",
    "        x_element = (fx(xc, yc) * fyy(xc, yc) - fy(xc, yc) * fxy(xc, yc)) / det    # ヘシアンの逆行列とグラジエントの積（x成分）\n",
    "        y_element = (- fx(xc, yc) * fxy(xc, yc) + fxx(xc, yc) * fy(xc, yc)) / det  # ヘシアンの逆行列とグラジエントの積（y成分）\n",
    "        xc = xc - stepsize * x_element  # 次の座標を生成･更新\n",
    "        yc = yc - stepsize * y_element"
   ]
  },
  {
   "cell_type": "code",
   "execution_count": 14,
   "id": "c1787fc0",
   "metadata": {},
   "outputs": [
    {
     "name": "stdout",
     "output_type": "stream",
     "text": [
      "Terminal point = ( -0.8220015587830566 , 0.6243128028186382 ) , Iteration = 532\n",
      "Energy = -40.664843508657405 , Gradient = 0.0\n"
     ]
    }
   ],
   "source": [
    "### ニュートン法による最適化の結果を出力\n",
    "print(\"Terminal point = (\", xc, \",\", yc,\") , Iteration =\", iteration)\n",
    "print(\"Energy =\", f(xc, yc), \", Gradient =\", np.sqrt(diffx ** 2 + diffy ** 2))"
   ]
  },
  {
   "cell_type": "code",
   "execution_count": 15,
   "id": "318a2127",
   "metadata": {},
   "outputs": [
    {
     "data": {
      "image/png": "[encoded data removed]",
      "text/plain": [
       "<Figure size 432x288 with 1 Axes>"
      ]
     },
     "metadata": {
      "needs_background": "light"
     },
     "output_type": "display_data"
    }
   ],
   "source": [
    "### 初期点からニュートン法で辿った経路の図示\n",
    "plt.plot(xc_list, yc_list, 'g.-', alpha=0.3)            # trajectory\n",
    "plt.plot(xc_list[0], yc_list[0], 'b.-', alpha=0.8)      # initial point\n",
    "plt.plot(xc_list[-1], yc_list[-1], 'r.-', alpha=0.5)    # terminal point\n",
    "\n",
    "# z軸のlevelを定義\n",
    "level = []\n",
    "for i in range(-15,10):\n",
    "    level.append(10.0 * i)\n",
    "\n",
    "# ポテンシャル面の描画\n",
    "surf_x = np.linspace(-2.0, 1.5, 300)\n",
    "surf_y = np.linspace(-1.0, 2.5, 300)\n",
    "xmesh, ymesh = np.meshgrid(surf_x, surf_y)\n",
    "surf_z = f(xmesh, ymesh)\n",
    "cont = plt.contourf(surf_x, surf_y, surf_z, levels=level, cmap='coolwarm')\n",
    "plt.show()"
   ]
  },
  {
   "cell_type": "code",
   "execution_count": 16,
   "id": "af4b7ad7",
   "metadata": {},
   "outputs": [],
   "source": [
    "### 以上、最急降下法とニュートン法を実装した。\n",
    "### \n",
    "### ここで、同じ初期点でも到達する点が異なっていることに注意しよう。\n",
    "### 最急降下法では極小点、ニュートン法では鞍点が得られている。\n",
    "### \n",
    "### また、ニュートン法の収束性は初期値やステップ幅などのパラメータに大きく依存する。\n",
    "### 各自でパラメータを変えて実行してみて欲しい。\n",
    "### \n",
    "### ニュートン法はあくまで停留点を見つけ出すアルゴリズムであり、必ずしも極小点に到達するとは限らない。\n",
    "### これを改善した手法として「準ニュートン法」がある。準ニュートン法ではセカント条件を満たすような近似ヘシアンが用いられる。\n",
    "### これにより、勾配法のように適切な降下方向を選択しつつ、極小点付近ではニュートン法に匹敵する収束性を発揮する。"
   ]
  },
  {
   "cell_type": "code",
   "execution_count": 17,
   "id": "bd6dcaad",
   "metadata": {},
   "outputs": [],
   "source": [
    "### 【課題】\n",
    "### ① 初期点を変えることですべての極小点と鞍点を特定する。\n",
    "### ② 鞍点において固有値と固有ベクトルを求めて虚の振動方向を特定する。\n",
    "### ③ ②で求めた虚の振動方向に対して、最急降下法を用いて得られるIRC経路を図示する。\n",
    "### ④ 以下の式で定義されるポテンシャル面についても同様に解析してみよう。\n",
    "\n",
    "# def f(x, y):\n",
    "#     # nabata potential 1\n",
    "#     A=[0.1, 0.1, 0.1, 0.001]\n",
    "#     a=[np.sin(x-2) + np.cos(y), np.sin(x-y) - np.cos(y), np.sin(y) + 3 * np.cos(x+y), x**2 + y**2 /6]\n",
    "#     s = []\n",
    "#     for i in range(4):\n",
    "#         s.append(A[i]*np.exp(a[i]))\n",
    "#     return sum(s)\n"
   ]
  }
 ],
 "metadata": {
  "kernelspec": {
   "display_name": "Python 3",
   "language": "python",
   "name": "python3"
  },
  "language_info": {
   "codemirror_mode": {
    "name": "ipython",
    "version": 3
   },
   "file_extension": ".py",
   "mimetype": "text/x-python",
   "name": "python",
   "nbconvert_exporter": "python",
   "pygments_lexer": "ipython3",
   "version": "3.8.8"
  }
 },
 "nbformat": 4,
 "nbformat_minor": 5
}
